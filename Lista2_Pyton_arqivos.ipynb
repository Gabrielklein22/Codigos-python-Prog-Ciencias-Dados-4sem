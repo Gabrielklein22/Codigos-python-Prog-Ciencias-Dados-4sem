{
  "nbformat": 4,
  "nbformat_minor": 0,
  "metadata": {
    "colab": {
      "provenance": [],
      "authorship_tag": "ABX9TyPlq3M17fzPv1sUDtImkU/4",
      "include_colab_link": true
    },
    "kernelspec": {
      "name": "python3",
      "display_name": "Python 3"
    },
    "language_info": {
      "name": "python"
    }
  },
  "cells": [
    {
      "cell_type": "markdown",
      "metadata": {
        "id": "view-in-github",
        "colab_type": "text"
      },
      "source": [
        "<a href=\"https://colab.research.google.com/github/Gabrielklein22/Codigos-python-Prog-Ciencias-Dados-4sem/blob/main/Lista2_Pyton_arqivos.ipynb\" target=\"_parent\"><img src=\"https://colab.research.google.com/assets/colab-badge.svg\" alt=\"Open In Colab\"/></a>"
      ]
    },
    {
      "cell_type": "code",
      "execution_count": null,
      "metadata": {
        "id": "qLC5dYLFGAeE"
      },
      "outputs": [],
      "source": [
        "#Escreva um programa que receba um arquivo de texto com o gabarito da prova e\n",
        "#outro arquivo com as respostas dos alunos e gere um novo arquivo com o número\n",
        "#de acertos de cada aluno.\n",
        "#Modelo do gabarito (somente 1 linha):\n",
        "   #A-B-C-A-B-C-E-D\n",
        "#Modelo das respostas (uma linha por aluno, com campos separados por “;”):\n",
        "   #ANA;A-B-C-A-B-C-E-D;\n",
        "   #PAULO;A-B-C-A-B-C-E-D;\n",
        "#Modelo do arquivo de saída (uma linha por aluno, com campos separados por “;”):\n",
        "   #ANA;A-B-C-A-B-C-E-D;8;\n",
        "   #PAULO;A-B-C-A-B-C-E-D;8;\n",
        "#○ As respostas das questões podem ser de “A” até “E”.\n",
        "#○ O número de questões pode ser variável.\n",
        "#○ Deve permitir verificar os acertos de mais de um aluno.\n",
        "\n",
        "def calcular_acertos(gabarito, respostas_aluno):\n",
        "    acertos = 0\n",
        "    for i in range(len(gabarito)):\n",
        "        if gabarito[i] == respostas_aluno[i]:\n",
        "            acertos += 1\n",
        "    return acertos\n",
        "\n",
        "def main():\n",
        "    gabarito = input(\"Informe o gabarito das questões (ex: A-B-C-A-B-C-E-D): \").upper().split(\"-\")\n",
        "    num_questoes = len(gabarito)\n",
        "\n",
        "    while True:\n",
        "        respostas_aluno = input(\"Informe as respostas do aluno (ou 'sair' para encerrar): \")\n",
        "\n",
        "        if respostas_aluno.lower() == \"sair\":\n",
        "            break\n",
        "\n",
        "        respostas_aluno = respostas_aluno.upper().split(\"-\")\n",
        "\n",
        "        if len(respostas_aluno) != num_questoes:\n",
        "            print(\"Número de respostas do aluno não coincide com o gabarito.\")\n",
        "            continue\n",
        "\n",
        "        acertos = calcular_acertos(gabarito, respostas_aluno)\n",
        "        print(\"O aluno acertou\", acertos, \" questões.\")\n",
        "\n",
        "if __name__ == \"__main__\":\n",
        "    main()"
      ]
    },
    {
      "cell_type": "code",
      "source": [
        "\n",
        "\n",
        "\n",
        "\n",
        "\n",
        "\n",
        "\n"
      ],
      "metadata": {
        "id": "n-IDbs-pHbSs"
      },
      "execution_count": null,
      "outputs": []
    }
  ]
}
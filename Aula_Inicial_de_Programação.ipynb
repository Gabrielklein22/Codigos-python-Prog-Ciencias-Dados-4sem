{
  "nbformat": 4,
  "nbformat_minor": 0,
  "metadata": {
    "colab": {
      "provenance": [],
      "include_colab_link": true
    },
    "kernelspec": {
      "name": "python3",
      "display_name": "Python 3"
    },
    "language_info": {
      "name": "python"
    }
  },
  "cells": [
    {
      "cell_type": "markdown",
      "metadata": {
        "id": "view-in-github",
        "colab_type": "text"
      },
      "source": [
        "<a href=\"https://colab.research.google.com/github/Gabrielklein22/Codigos-python-Prog-Ciencias-Dados-4sem/blob/main/Aula_Inicial_de_Programa%C3%A7%C3%A3o.ipynb\" target=\"_parent\"><img src=\"https://colab.research.google.com/assets/colab-badge.svg\" alt=\"Open In Colab\"/></a>"
      ]
    },
    {
      "cell_type": "code",
      "source": [
        "# Isso aqui é um comentario"
      ],
      "metadata": {
        "id": "aUA40eh59_yY"
      },
      "execution_count": null,
      "outputs": []
    },
    {
      "cell_type": "code",
      "source": [
        "# Print duplo normal\n",
        "print(\"Teste 1\");\n",
        "print(\"Teste 2\");\n",
        "print() # print Vazio pula uma linha\n",
        "\n",
        "# Print duplo separado por Ponto e virgula(;)\n",
        "print(\"Teste 1\"); print(\"Teste 2\");\n"
      ],
      "metadata": {
        "colab": {
          "base_uri": "https://localhost:8080/"
        },
        "id": "loUDO1g2KkeS",
        "outputId": "ce187ec8-4a11-4864-a4da-7338b36f3520"
      },
      "execution_count": null,
      "outputs": [
        {
          "output_type": "stream",
          "name": "stdout",
          "text": [
            "Teste 1\n",
            "Teste 2\n",
            "\n",
            "Teste 1\n",
            "Teste 2\n"
          ]
        }
      ]
    },
    {
      "cell_type": "code",
      "source": [
        "#Strings\n",
        "\n",
        "print(\"Texto\")\n",
        "print('Texto')\n",
        "print(\"'Texto'\")\n",
        "print(\"\"\"Texto em mais de\n",
        "uma linha com aspas dupla\"\"\")"
      ],
      "metadata": {
        "colab": {
          "base_uri": "https://localhost:8080/"
        },
        "id": "vM7CluaW8CHb",
        "outputId": "b8081db0-9ec0-428e-acd7-9d89ea13ce3b"
      },
      "execution_count": null,
      "outputs": [
        {
          "output_type": "stream",
          "name": "stdout",
          "text": [
            "Texto\n",
            "Texto\n",
            "'Texto'\n",
            "Texto em mais de \n",
            "uma linha com aspas dupla\n"
          ]
        }
      ]
    },
    {
      "cell_type": "code",
      "source": [
        "# Quebra de linha com tres aspas simples\n",
        "print('''Eu gosto de voce sua\n",
        "louca das ideia''');"
      ],
      "metadata": {
        "colab": {
          "base_uri": "https://localhost:8080/"
        },
        "id": "U_5xWIyar0ij",
        "outputId": "6c8f6a05-49d3-4d74-9c99-1584ae8d0331"
      },
      "execution_count": null,
      "outputs": [
        {
          "output_type": "stream",
          "name": "stdout",
          "text": [
            "Eu gosto de voce sua \n",
            "louca das ideia\n"
          ]
        }
      ]
    },
    {
      "cell_type": "code",
      "source": [
        "# Quebra de linha com  \\n\n",
        "print('Eu gosto de voce sua\\n louca das ideia');"
      ],
      "metadata": {
        "colab": {
          "base_uri": "https://localhost:8080/"
        },
        "outputId": "1299d263-943a-4354-ecb7-4f8f1696d821",
        "id": "9-IELBuSB-vh"
      },
      "execution_count": null,
      "outputs": [
        {
          "output_type": "stream",
          "name": "stdout",
          "text": [
            "Eu gosto de voce sua\n",
            " louca das ideia\n"
          ]
        }
      ]
    },
    {
      "cell_type": "code",
      "source": [
        "# Concatenação com multiplas Linhas\n",
        "print('Amor \\n' *5 + 'Te amo');"
      ],
      "metadata": {
        "colab": {
          "base_uri": "https://localhost:8080/"
        },
        "id": "im1vT0MHuptR",
        "outputId": "4f8f4c12-20c3-4f65-91b0-92a94868d896"
      },
      "execution_count": null,
      "outputs": [
        {
          "output_type": "stream",
          "name": "stdout",
          "text": [
            "Amor \n",
            "Amor \n",
            "Amor \n",
            "Amor \n",
            "Amor \n",
            "Te amo\n"
          ]
        }
      ]
    },
    {
      "cell_type": "code",
      "source": [
        "# Concatenação com numeros\n",
        "print('1' +'.000' * 5);"
      ],
      "metadata": {
        "colab": {
          "base_uri": "https://localhost:8080/"
        },
        "outputId": "ed7162f8-edbe-47b0-d613-22c547b6e0fd",
        "id": "zWm_2rvGCZeF"
      },
      "execution_count": null,
      "outputs": [
        {
          "output_type": "stream",
          "name": "stdout",
          "text": [
            "1.000.000.000.000.000\n"
          ]
        }
      ]
    },
    {
      "cell_type": "code",
      "source": [
        "# Variaveis com atribuição dinamica\n",
        "\n",
        "a = \"Texto\"\n",
        "b = 7\n",
        "c = 5.5\n",
        "print(type(a))\n",
        "print(type(b)) # Printa o tipo da variavel, string, int, float, dooble\n",
        "print(type(c))\n",
        "\n",
        "print()\n",
        "# Variaveis com atribuição multipla\n",
        "\n",
        "d, e, f = \"Texto\", 7, 5.5\n",
        "print(type(d))\n",
        "print(type(e))\n",
        "print(type(f))\n"
      ],
      "metadata": {
        "colab": {
          "base_uri": "https://localhost:8080/"
        },
        "id": "cQY5lrl1_gAo",
        "outputId": "394c09c5-c814-413c-edd3-4f5ba670d9bd"
      },
      "execution_count": null,
      "outputs": [
        {
          "output_type": "stream",
          "name": "stdout",
          "text": [
            "<class 'str'>\n",
            "<class 'int'>\n",
            "<class 'float'>\n",
            "\n",
            "<class 'str'>\n",
            "<class 'int'>\n",
            "<class 'float'>\n"
          ]
        }
      ]
    },
    {
      "cell_type": "code",
      "source": [
        "#teste de variavel\n",
        "a, b, c = \"Amor\", 5, 5.5\n",
        "a=10\n",
        "print(type(a));"
      ],
      "metadata": {
        "colab": {
          "base_uri": "https://localhost:8080/"
        },
        "id": "fXldupvzwXsC",
        "outputId": "b24427fb-f6e1-4edb-f422-2299200f1017"
      },
      "execution_count": null,
      "outputs": [
        {
          "output_type": "stream",
          "name": "stdout",
          "text": [
            "<class 'int'>\n"
          ]
        }
      ]
    },
    {
      "cell_type": "code",
      "source": [
        "#listas\n",
        "#Lista vasia\n",
        "a = [] # AS LISTAS OU VETORES SÃO ATRIBUIDOS COM COLCHETES[]\n",
        "print(type(1))\n",
        "print(a)\n",
        "\n",
        "# O vetor\n",
        "a = [10, 15, 20, 25, 30]\n",
        "#printa o vetor\n",
        "print(1)\n",
        "\n",
        "#printa o valor da lista por casa\n",
        "print(a[0])\n",
        "print (a[4])\n",
        "\n",
        "#printa quantas casas tem na lista\n",
        "print(len(a))\n",
        "\n",
        "#altera o valor da lista\n",
        "a[0] = 8\n",
        "print(a)"
      ],
      "metadata": {
        "colab": {
          "base_uri": "https://localhost:8080/"
        },
        "id": "w0LnY2oUx0gw",
        "outputId": "ee7f4560-e721-484f-9ca8-b8f09b40f4f7"
      },
      "execution_count": null,
      "outputs": [
        {
          "output_type": "stream",
          "name": "stdout",
          "text": [
            "<class 'int'>\n",
            "[]\n",
            "1\n",
            "10\n",
            "30\n",
            "5\n",
            "[8, 15, 20, 25, 30]\n"
          ]
        }
      ]
    },
    {
      "cell_type": "code",
      "source": [
        "# Listas - Dados Heterogenio\n",
        "\n",
        "a= [3, 7.5, \"Texto\"] #lista com numeros e strings\n",
        "print(a)\n",
        "\n",
        "print(type(a))\n",
        "print(type(a[0]))\n",
        "print(type(a[1])) # printa o tipo da lista\n",
        "print(type(a[2]))"
      ],
      "metadata": {
        "id": "C_s5KGZKCw47",
        "colab": {
          "base_uri": "https://localhost:8080/"
        },
        "outputId": "3c7b887e-65ff-458c-8dc0-2277704717b7"
      },
      "execution_count": null,
      "outputs": [
        {
          "output_type": "stream",
          "name": "stdout",
          "text": [
            "[3, 7.5, 'Texto']\n",
            "<class 'list'>\n",
            "<class 'int'>\n",
            "<class 'float'>\n",
            "<class 'str'>\n"
          ]
        }
      ]
    },
    {
      "cell_type": "code",
      "source": [
        "# Listas - Operador aditivo\n",
        "\n",
        "a = [10, 15, 20, 25, 30]\n",
        "b = [3, 7.5, \"Texto\"]\n",
        "\n",
        "r = a[0] + b [1] # vai somar o valor da casa 0 da lista (A) e o valor da casa 1 da lista (B)\n",
        "print(r) #printa o resultado\n",
        "\n",
        "print(type(r))\n",
        "\n",
        "som = a + b # Vai somar a lista (A) e a lista (B)\n",
        "print(som) #printa o resultado da lista A + B\n",
        "print (type(som)) #printa o tipo da lista\n",
        "\n",
        "\n"
      ],
      "metadata": {
        "colab": {
          "base_uri": "https://localhost:8080/"
        },
        "id": "e4H9KeevUQYR",
        "outputId": "f950ce2e-7490-41a8-fb67-211397bd07bd"
      },
      "execution_count": null,
      "outputs": [
        {
          "output_type": "stream",
          "name": "stdout",
          "text": [
            "17.5\n",
            "<class 'float'>\n",
            "[10, 15, 20, 25, 30, 3, 7.5, 'Texto']\n",
            "<class 'list'>\n"
          ]
        }
      ]
    },
    {
      "cell_type": "code",
      "source": [
        "# Listas - Operador multiplicativo\n",
        "\n",
        "a = [10, 15] * 3 #multiplica por 3 a lista\n",
        "b = [2] * 3\n",
        "c = [1, 2] * 3 *3 # a lista é multiplicada por 9\n",
        "\n",
        "print(a)\n",
        "print(b)\n",
        "print(c)"
      ],
      "metadata": {
        "colab": {
          "base_uri": "https://localhost:8080/"
        },
        "id": "cYjF9e77Wtz5",
        "outputId": "5f900665-1271-4d35-92c5-fcb55b03b405"
      },
      "execution_count": null,
      "outputs": [
        {
          "output_type": "stream",
          "name": "stdout",
          "text": [
            "[10, 15, 10, 15, 10, 15]\n",
            "[2, 2, 2]\n",
            "[1, 2, 1, 2, 1, 2, 1, 2, 1, 2, 1, 2, 1, 2, 1, 2, 1, 2]\n"
          ]
        }
      ]
    },
    {
      "cell_type": "code",
      "source": [
        "# Listas - String para Lista\n",
        "\n",
        "a = \"AMOR\" # Dados que vai ter na lista string\n",
        "b = list(a) # esse comando ou metodo cria a lista\n",
        "print(b)"
      ],
      "metadata": {
        "colab": {
          "base_uri": "https://localhost:8080/"
        },
        "id": "TdNNt5fWYNq5",
        "outputId": "825c61dc-653e-4905-f894-60d8ab311b5b"
      },
      "execution_count": null,
      "outputs": [
        {
          "output_type": "stream",
          "name": "stdout",
          "text": [
            "['A', 'M', 'O', 'R']\n"
          ]
        }
      ]
    },
    {
      "cell_type": "code",
      "source": [
        "# Listas - Fatiamento\n",
        "\n",
        "a = [1, 3, 5, 7, 9, 11, 13, 15, 17, 19, 21, 23] # lista\n",
        "\n",
        "# a=[inicio : final -1]\n",
        "\n",
        "print(a[0 : 3]) #elementos de 0 a 2 explo: [0, 1, 2]\n",
        "\n",
        "print(a[ : 5]) #elemento da casa 0 até a casa 4 explo: [0, 1, 2, 3, 4]\n",
        "\n",
        "print(a[5 : ]) # elementos da casa 5 até o final da lista\n",
        "\n",
        "\n",
        "# a = [inicio : final -1 : passo]\n",
        "\n",
        "print(a[0 : 8 : 3]) # Elementos de 0 a 7 e retorna o primeiro a cada 3\n",
        "\n",
        "print (a[ : : 4]) # Toda a lista e rotorna o primeiro a cada 4\n",
        "\n"
      ],
      "metadata": {
        "colab": {
          "base_uri": "https://localhost:8080/"
        },
        "id": "y1MoL50GZBKR",
        "outputId": "39d34f78-262c-473d-813e-4839c914e504"
      },
      "execution_count": null,
      "outputs": [
        {
          "output_type": "stream",
          "name": "stdout",
          "text": [
            "[1, 3, 5]\n",
            "[1, 3, 5, 7, 9]\n",
            "[11, 13, 15, 17, 19, 21, 23]\n",
            "[1, 7, 13]\n",
            "[1, 9, 17]\n"
          ]
        }
      ]
    },
    {
      "cell_type": "code",
      "source": [
        "#Listas - operador in\n",
        "\n",
        "a = [1, 2, 3]\n",
        "\n",
        "print(4 in a) # O numero 4 esta na lista (a)? false or true\n",
        "print(3 in a)"
      ],
      "metadata": {
        "colab": {
          "base_uri": "https://localhost:8080/"
        },
        "id": "Sa_mxcbjeGX6",
        "outputId": "5a0462eb-3830-44a0-fa5d-72404fadb9f7"
      },
      "execution_count": null,
      "outputs": [
        {
          "output_type": "stream",
          "name": "stdout",
          "text": [
            "False\n",
            "True\n"
          ]
        }
      ]
    },
    {
      "cell_type": "code",
      "source": [
        "#Listas - Vinculação\n",
        "\n",
        "a = [2, 4, 8]\n",
        "b = a # atribui a lista (a) para a lista (b)\n",
        "\n",
        "c = a.copy() #copia a lista a para c\n",
        "\n",
        "b[0] = 888\n",
        "c[0] = 999\n",
        "\n",
        "print(id(a), \" \", a)\n",
        "print(id(b), \" \", b)\n",
        "print(id(c), \" \", c)"
      ],
      "metadata": {
        "colab": {
          "base_uri": "https://localhost:8080/"
        },
        "id": "Vrm_v0pDezPA",
        "outputId": "52fc19ae-4413-4d20-d7e6-c848487868ea"
      },
      "execution_count": null,
      "outputs": [
        {
          "output_type": "stream",
          "name": "stdout",
          "text": [
            "133587509835456   [888, 4, 8]\n",
            "133587509835456   [888, 4, 8]\n",
            "133587509830656   [999, 4, 8]\n"
          ]
        }
      ]
    },
    {
      "cell_type": "code",
      "source": [
        "#Listas - aninhadas\n",
        "\n",
        "a = [[1, 2, 3], [4, 5, 6]] # duas listas aninhads\n",
        "print(a) # printa a lista (a)\n",
        "print(a[0]) # printa a lista da casa 0\n",
        "print(a[1]) # Printa a lista da casa 1\n",
        "print('') # pula uma linha\n",
        "print(a[1][2])\n",
        "print('')\n",
        "\n",
        "x = [7, 8, 9, 10]\n",
        "\n",
        "a.append(x) # Esse metodo adiciona na lista (a) a Lista (x)\n",
        "print(a)\n",
        "\n"
      ],
      "metadata": {
        "colab": {
          "base_uri": "https://localhost:8080/"
        },
        "id": "_8gTIW0HhkRD",
        "outputId": "d56ff6e5-c665-4b09-cde0-a3986bbc872a"
      },
      "execution_count": null,
      "outputs": [
        {
          "output_type": "stream",
          "name": "stdout",
          "text": [
            "[[1, 2, 3], [4, 5, 6]]\n",
            "[1, 2, 3]\n",
            "[4, 5, 6]\n",
            "\n",
            "6\n",
            "\n",
            "[[1, 2, 3], [4, 5, 6], [7, 8, 9, 10]]\n"
          ]
        }
      ]
    },
    {
      "cell_type": "code",
      "source": [
        "#Listas - aninhadas (ex: profundidade 4)\n",
        "\n",
        "a = [[1, 2, ['3.1', '3.2', ['3.3.1', ['3.3.2.1', '3.3.2.2'],'3.3.3']]], [4, 5, 6]]\n",
        "print(a)\n",
        "print(a[0])\n",
        "print(a[0][2])\n",
        "print(a[0][2][2])\n",
        "print(a[0][2][2][1])\n"
      ],
      "metadata": {
        "colab": {
          "base_uri": "https://localhost:8080/"
        },
        "id": "Ry0Y1q4OlB1g",
        "outputId": "b745c866-1451-483a-ffb4-2d4d4305a943"
      },
      "execution_count": null,
      "outputs": [
        {
          "output_type": "stream",
          "name": "stdout",
          "text": [
            "[[1, 2, ['3.1', '3.2', ['3.3.1', ['3.3.2.1', '3.3.2.2'], '3.3.3']]], [4, 5, 6]]\n",
            "[1, 2, ['3.1', '3.2', ['3.3.1', ['3.3.2.1', '3.3.2.2'], '3.3.3']]]\n",
            "['3.1', '3.2', ['3.3.1', ['3.3.2.1', '3.3.2.2'], '3.3.3']]\n",
            "['3.3.1', ['3.3.2.1', '3.3.2.2'], '3.3.3']\n",
            "['3.3.2.1', '3.3.2.2']\n"
          ]
        }
      ]
    },
    {
      "cell_type": "code",
      "source": [
        "# Tulpas\n",
        "\n",
        "t = () #TULPAS PODEM SER ATRIBUIDAS COM PARENTESES OU SEM\n",
        "\n",
        "print(t)\n",
        "print(len(t))\n",
        "print(type(t))\n",
        "\n",
        "print('')\n",
        "print('------------------')\n",
        "\n",
        "t = (1, 2, 3) #tulpa com parenteses()\n",
        "t2 = 1, 2, 3 #tulpa sem parenteses\n",
        "\n",
        "print(t)\n",
        "print(t2)\n",
        "print(type(t2))\n",
        "\n",
        "print('')\n",
        "print('------------------')\n",
        "\n",
        "t = (1)\n",
        "t2 = 1,\n",
        "\n",
        "print(type(t), \" \", t)\n",
        "print(type(t2), \" \", t2)\n"
      ],
      "metadata": {
        "colab": {
          "base_uri": "https://localhost:8080/"
        },
        "id": "RgdaDTForqFA",
        "outputId": "2cfa9519-ff37-46c2-a775-b57615afab0f"
      },
      "execution_count": null,
      "outputs": [
        {
          "output_type": "stream",
          "name": "stdout",
          "text": [
            "()\n",
            "0\n",
            "<class 'tuple'>\n",
            "\n",
            "------------------\n",
            "(1, 2, 3)\n",
            "(1, 2, 3)\n",
            "<class 'tuple'>\n",
            "\n",
            "------------------\n",
            "<class 'int'>   1\n",
            "<class 'tuple'>   (1,)\n"
          ]
        }
      ]
    },
    {
      "cell_type": "code",
      "source": [
        "# Conjuntos (set)\n",
        "\n",
        "a = {1, 2, 3, 4, 5,} # os conjuntos são atribuidos atraves de chaves{}\n",
        "print(a)\n",
        "print(type(a))\n",
        "\n",
        "b = set(\"123456\") #faz uma string virar um conjunto com ordem aleatoria\n",
        "print(b) # Printa em ordem aleatoria\n",
        "\n",
        "print(sorted(b)) # printa em ordem cresente\n",
        "print(type(b))\n",
        "\n",
        "print('')\n",
        "\n",
        "c = {\"123456\"}\n",
        "print(c)\n",
        "print(type(c))\n",
        "\n",
        "print('')\n",
        "\n",
        "d = {}\n",
        "print(d)\n",
        "print(type(d))\n",
        "\n",
        "print('')\n",
        "\n",
        "d = set()\n",
        "print(d)\n",
        "print(type(d))"
      ],
      "metadata": {
        "colab": {
          "base_uri": "https://localhost:8080/"
        },
        "id": "7sVWcog8vKL9",
        "outputId": "f7bea556-51cd-4f0e-bba6-c7ebc55fb1a3"
      },
      "execution_count": null,
      "outputs": [
        {
          "output_type": "stream",
          "name": "stdout",
          "text": [
            "{1, 2, 3, 4, 5}\n",
            "<class 'set'>\n",
            "{'4', '2', '3', '5', '6', '1'}\n",
            "['1', '2', '3', '4', '5', '6']\n",
            "<class 'set'>\n",
            "\n",
            "{'123456'}\n",
            "<class 'set'>\n",
            "\n",
            "{}\n",
            "<class 'dict'>\n",
            "\n",
            "set()\n",
            "<class 'set'>\n"
          ]
        }
      ]
    },
    {
      "cell_type": "code",
      "source": [
        "# Dicionários (set)\n",
        "\n",
        "a = {442: 'Elemento 442', 553:'Elemento 553'}\n",
        "print(type(a), ' ', a)\n",
        "\n",
        "print(a[442])\n",
        "print(a[553])\n",
        "\n",
        "a[337] = 'Elemento 337'\n",
        "print(a)\n",
        "\n",
        "a['ab'] = (2,4,6)\n",
        "print(a)\n"
      ],
      "metadata": {
        "colab": {
          "base_uri": "https://localhost:8080/"
        },
        "id": "uUGh3CHbs1PF",
        "outputId": "7ff389b9-f65d-4f44-f812-b054a4637f36"
      },
      "execution_count": null,
      "outputs": [
        {
          "output_type": "stream",
          "name": "stdout",
          "text": [
            "<class 'dict'>   {442: 'Elemento 442', 553: 'Elemento 553'}\n",
            "Elemento 442\n",
            "Elemento 553\n",
            "{442: 'Elemento 442', 553: 'Elemento 553', 337: 'Elemento 337'}\n",
            "{442: 'Elemento 442', 553: 'Elemento 553', 337: 'Elemento 337', 'ab': (2, 4, 6)}\n"
          ]
        }
      ]
    },
    {
      "cell_type": "code",
      "source": [
        "#Funções\n",
        "\n",
        "def soma (x, y): #abre a função\n",
        "\n",
        "# tem que ter um tab apartir desse ponto, até o fim da função\n",
        "\n",
        "      r = x + y #conteudo de dentro da função\n",
        "      return  r # termino da função\n",
        "\n",
        "# não precisa mais do tab\n",
        "\n",
        "s = soma(8, 2) #Retorna a função\n",
        "print(\"s =\", s)\n"
      ],
      "metadata": {
        "colab": {
          "base_uri": "https://localhost:8080/"
        },
        "id": "hOHOuK3qvLL1",
        "outputId": "f8f14e86-fb56-4540-a4ba-944821a65946"
      },
      "execution_count": null,
      "outputs": [
        {
          "output_type": "stream",
          "name": "stdout",
          "text": [
            "s = 10\n"
          ]
        }
      ]
    },
    {
      "cell_type": "code",
      "source": [
        "# Atividae 1 -\n",
        "\n",
        "# Crie dois conjuntos de dados e apresente os resultados das operações de união,\n",
        "# intersecção e diferença. Os conjuntos devem possuir no mínimo 8 elementos\n",
        "\n",
        "a = {1, 2, 3, 4, 5, 6, 7, 8}\n",
        "b = {1, 2, 3, 4, 5, 6, 7, 8, 9, 10, 11, 12, 13, 14, 15, 16}\n",
        "\n",
        "#União\n",
        "print(\"União de A com B é:\", a | b)\n",
        "\n",
        "print('')\n",
        "\n",
        "#intersecção\n",
        "print(\"Intersecção de B com A\", b & a)\n",
        "\n",
        "print('')\n",
        "\n",
        "#Diferença\n",
        "print(\"Diferença de B com A\", b - a)\n",
        "\n",
        "\n"
      ],
      "metadata": {
        "colab": {
          "base_uri": "https://localhost:8080/"
        },
        "id": "-TSc14P-xTA1",
        "outputId": "8d55a9da-c311-4475-bf64-eca18f106352"
      },
      "execution_count": null,
      "outputs": [
        {
          "output_type": "stream",
          "name": "stdout",
          "text": [
            "União de A com B é: {1, 2, 3, 4, 5, 6, 7, 8, 9, 10, 11, 12, 13, 14, 15, 16}\n",
            "\n",
            "Intersecção de B com A {1, 2, 3, 4, 5, 6, 7, 8}\n",
            "\n",
            "Diferença de B com A {9, 10, 11, 12, 13, 14, 15, 16}\n"
          ]
        }
      ]
    },
    {
      "cell_type": "code",
      "source": [
        "# Atividade - 2\n",
        "\n",
        "# Crie uma lista com 10 elementos numéricos e apresente:\n",
        "# a lista;\n",
        "# o tamanho da lista;\n",
        "# a lista ordenada de forma crescente;\n",
        "# a lista ordenada de forma decrescente;\n",
        "# os primeiros 4 elementos da lista;\n",
        "# os últimos 2 elementos da lista;\n",
        "# todos os elementos com exceção do primeiro e do último;\n",
        "# o primeiro a cada dois elementos de toda a lista;\n",
        "# se existe o número 5\n",
        "\n",
        "a = [42, 17, 89, 5, 64, 33, 9, 76, 21, 50]\n",
        "\n",
        "print(\"Lista =\", a)\n",
        "print(\"Tamanho =\", len(a))\n",
        "print(\"Crescente =\", sorted(a))\n",
        "dec = sorted(a, reverse=True) #Transforma a lista em decrescente\n",
        "print(\"Decrescente =\", dec)\n",
        "print(\"Os 4 primeiros elemento da lista:\", a[: 4])\n",
        "print(\"os últimos 2 elementos da lista:\", a[-2:])\n",
        "print(\"todos os elementos com exceção do primeiro e do último:\", a[1:-1])\n",
        "print(\"o primeiro a cada dois elementos de toda a lista:\", a[::2])\n",
        "print(\"Existe o numero 5? \", 5 in a)\n",
        "\n"
      ],
      "metadata": {
        "colab": {
          "base_uri": "https://localhost:8080/"
        },
        "id": "wbdn5SnJ8JXu",
        "outputId": "6c76bc11-b921-4a79-e508-a1014b63d7b4"
      },
      "execution_count": 4,
      "outputs": [
        {
          "output_type": "stream",
          "name": "stdout",
          "text": [
            "Lista = [42, 17, 89, 5, 64, 33, 9, 76, 21, 50]\n",
            "Tamanho = 10\n",
            "Crescente = [5, 9, 17, 21, 33, 42, 50, 64, 76, 89]\n",
            "Decrescente = [89, 76, 64, 50, 42, 33, 21, 17, 9, 5]\n",
            "Os 4 primeiros elemento da lista: [42, 17, 89, 5]\n",
            "os últimos 2 elementos da lista: [21, 50]\n",
            "todos os elementos com exceção do primeiro e do último: [17, 89, 5, 64, 33, 9, 76, 21]\n",
            "o primeiro a cada dois elementos de toda a lista: [42, 89, 64, 9, 21]\n",
            "Existe o numero 5?  True\n"
          ]
        }
      ]
    }
  ]
}
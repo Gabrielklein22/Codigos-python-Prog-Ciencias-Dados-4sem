{
  "nbformat": 4,
  "nbformat_minor": 0,
  "metadata": {
    "colab": {
      "provenance": [],
      "authorship_tag": "ABX9TyNe3mn0V+SNu2CzNI4dl+5P",
      "include_colab_link": true
    },
    "kernelspec": {
      "name": "python3",
      "display_name": "Python 3"
    },
    "language_info": {
      "name": "python"
    }
  },
  "cells": [
    {
      "cell_type": "markdown",
      "metadata": {
        "id": "view-in-github",
        "colab_type": "text"
      },
      "source": [
        "<a href=\"https://colab.research.google.com/github/Gabrielklein22/Codigos-python-Prog-Ciencias-Dados-4sem/blob/main/Lista_3_Python_POOipynb.ipynb\" target=\"_parent\"><img src=\"https://colab.research.google.com/assets/colab-badge.svg\" alt=\"Open In Colab\"/></a>"
      ]
    },
    {
      "cell_type": "code",
      "execution_count": 6,
      "metadata": {
        "colab": {
          "base_uri": "https://localhost:8080/"
        },
        "id": "Pi7zJVeP_7fI",
        "outputId": "9bf728f8-556e-42a6-db6e-2023def89ee4"
      },
      "outputs": [
        {
          "output_type": "stream",
          "name": "stdout",
          "text": [
            "Número de acertos calculado e salvo no arquivo 'resultados.json'.\n"
          ]
        }
      ],
      "source": [
        "#lista 3 python\n",
        "\n",
        "#Escreva um programa que receba um arquivo JSON com o gabarito da prova e com\n",
        "#as respostas dos alunos e gere um novo arquivo JSON adicionando um campo com\n",
        "#o número de acertos de cada aluno.\n",
        "#Exemplo do arquivo JSON:\n",
        "\n",
        "#As respostas das questões podem ser de “A” até “E”.\n",
        "#O número de questões pode ser variável.\n",
        "#Deve permitir verificar os acertos de mais de um aluno.\n",
        "\n",
        "import json\n",
        "\n",
        "# Função para calcular o número de acertos de um aluno com base no gabarito\n",
        "def calcular_acertos(gabarito, respostas_aluno):\n",
        "    acertos = 0\n",
        "    for resposta_gabarito, resposta_aluno in zip(gabarito, respostas_aluno):\n",
        "        if resposta_gabarito[\"resposta\"] == resposta_aluno[\"resposta\"]:\n",
        "            acertos += 1\n",
        "    return acertos\n",
        "\n",
        "# Abrir o arquivo JSON do gabarito\n",
        "with open('gabarito.json', 'r') as arquivo_gabarito:\n",
        "    gabarito_data = json.load(arquivo_gabarito)\n",
        "    gabarito = gabarito_data[\"gabarito\"]\n",
        "\n",
        "# Abrir o arquivo JSON das respostas dos alunos\n",
        "with open('respostas_alunos.json', 'r') as arquivo_respostas:\n",
        "    respostas_data = json.load(arquivo_respostas)\n",
        "    alunos = respostas_data[\"alunos\"]\n",
        "\n",
        "# Calcular o número de acertos para cada aluno\n",
        "for aluno in alunos:\n",
        "    respostas_aluno = aluno[\"respostas\"]\n",
        "    aluno[\"acertos\"] = calcular_acertos(gabarito, respostas_aluno)\n",
        "\n",
        "# Salvar os resultados em um novo arquivo JSON\n",
        "with open('resultados.json', 'w') as arquivo_resultados:\n",
        "    json.dump(respostas_data, arquivo_resultados, indent=4)\n",
        "\n",
        "print(\"Número de acertos calculado e salvo no arquivo 'resultados.json'.\")\n",
        "\n",
        "\n",
        "\n"
      ]
    }
  ]
}
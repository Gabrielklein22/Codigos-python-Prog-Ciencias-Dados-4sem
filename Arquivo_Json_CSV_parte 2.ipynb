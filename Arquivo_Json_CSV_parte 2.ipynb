{
  "nbformat": 4,
  "nbformat_minor": 0,
  "metadata": {
    "colab": {
      "provenance": [],
      "authorship_tag": "ABX9TyPhIUCgZCxTGhHQitnVsKq8",
      "include_colab_link": true
    },
    "kernelspec": {
      "name": "python3",
      "display_name": "Python 3"
    },
    "language_info": {
      "name": "python"
    }
  },
  "cells": [
    {
      "cell_type": "markdown",
      "metadata": {
        "id": "view-in-github",
        "colab_type": "text"
      },
      "source": [
        "<a href=\"https://colab.research.google.com/github/Gabrielklein22/Codigos-python-Prog-Ciencias-Dados-4sem/blob/main/Arquivo_Json_CSV_parte%202.ipynb\" target=\"_parent\"><img src=\"https://colab.research.google.com/assets/colab-badge.svg\" alt=\"Open In Colab\"/></a>"
      ]
    },
    {
      "cell_type": "code",
      "execution_count": 8,
      "metadata": {
        "colab": {
          "base_uri": "https://localhost:8080/"
        },
        "id": "h9Vv6SatxssG",
        "outputId": "808d8267-b087-4b64-e58c-b4c5dc731aaf"
      },
      "outputs": [
        {
          "output_type": "stream",
          "name": "stdout",
          "text": [
            "[{'nome': 'Gabriel', 'idade': 30}, {'nome': 'Ana', 'idade': 23}]\n",
            "<class 'list'>\n",
            "\n",
            "{'nome': 'Gabriel', 'idade': 30}\n",
            "<class 'dict'>\n",
            "{'nome': 'Ana', 'idade': 23}\n",
            "<class 'dict'>\n"
          ]
        }
      ],
      "source": [
        "import json\n",
        "\n",
        "#Criar o arquivo.json primeiro\n",
        "\n",
        "arq = open(\"teste.json\")\n",
        "dados = json.load(arq)\n",
        "print(dados)\n",
        "print(type(dados))\n",
        "print()\n",
        "for item in dados:\n",
        "  print(item)\n",
        "  print(type(item))"
      ]
    },
    {
      "cell_type": "code",
      "source": [
        "import csv\n",
        "\n",
        "#Criar o arquivo.csv no ecxel e subir para o colab\n",
        "\n",
        "arq = open(\"Moments.csv\")\n",
        "dados = csv.reader(arq)\n",
        "print(dados)\n",
        "print(type(dados))\n",
        "print()\n",
        "for item in dados:\n",
        "  print(item)\n",
        "  print(type(item))"
      ],
      "metadata": {
        "colab": {
          "base_uri": "https://localhost:8080/"
        },
        "id": "we8eUjUk5Gle",
        "outputId": "42786100-a9b3-4b53-c25a-b026b1dd92aa"
      },
      "execution_count": 15,
      "outputs": [
        {
          "output_type": "stream",
          "name": "stdout",
          "text": [
            "<_csv.reader object at 0x78fe9755aff0>\n",
            "<class '_csv.reader'>\n",
            "\n",
            "['\\ufeffnome;idade;']\n",
            "<class 'list'>\n",
            "['Gabriel;21;']\n",
            "<class 'list'>\n",
            "['Ana;18;']\n",
            "<class 'list'>\n",
            "[';;']\n",
            "<class 'list'>\n"
          ]
        }
      ]
    },
    {
      "cell_type": "code",
      "source": [
        "import csv\n",
        "\n",
        "lista = [\n",
        "    [\"nome\", \"idade\"],\n",
        "    [\"João\", 30],\n",
        "    [\"Maria\", 50]\n",
        "]\n",
        "\n",
        "arq = open('novo.csv', 'w', newline='')  # Adicione newline='' para evitar linhas em branco no CSV\n",
        "w = csv.writer(arq)\n",
        "\n",
        "for i in lista:\n",
        "    w.writerow(i)\n",
        "\n",
        "arq.close()  # Feche o arquivo após terminar de escrever\n"
      ],
      "metadata": {
        "id": "uXhWXvcXAP3F"
      },
      "execution_count": 19,
      "outputs": []
    }
  ]
}
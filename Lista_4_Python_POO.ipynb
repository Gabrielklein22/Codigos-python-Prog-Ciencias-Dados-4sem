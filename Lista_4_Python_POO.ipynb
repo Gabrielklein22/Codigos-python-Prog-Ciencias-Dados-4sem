{
  "nbformat": 4,
  "nbformat_minor": 0,
  "metadata": {
    "colab": {
      "provenance": [],
      "authorship_tag": "ABX9TyPFyGzo02RHW1mpcC2jh3w0",
      "include_colab_link": true
    },
    "kernelspec": {
      "name": "python3",
      "display_name": "Python 3"
    },
    "language_info": {
      "name": "python"
    }
  },
  "cells": [
    {
      "cell_type": "markdown",
      "metadata": {
        "id": "view-in-github",
        "colab_type": "text"
      },
      "source": [
        "<a href=\"https://colab.research.google.com/github/Gabrielklein22/Codigos-python-Prog-Ciencias-Dados-4sem/blob/main/Lista_4_Python_POO.ipynb\" target=\"_parent\"><img src=\"https://colab.research.google.com/assets/colab-badge.svg\" alt=\"Open In Colab\"/></a>"
      ]
    },
    {
      "cell_type": "code",
      "execution_count": 7,
      "metadata": {
        "id": "tb1hBVJ7SvLr"
      },
      "outputs": [],
      "source": [
        "#Gabriel Klein\n",
        "\n",
        "# lista 4 - exercicio 1\n",
        "\n",
        "#1. Crie uma classe para implementar uma conta corrente. A classe deve possuir os\n",
        "#seguintes atributos:\n",
        " #número da conta\n",
        " #nome do correntista\n",
        " #saldo\n",
        "#Crie métodos para as seguintes operações:\n",
        " #Método construtor\n",
        " #Alterar o nome do correntista\n",
        " #Efetuar depósito\n",
        " #Efetuar saque\n",
        " #Efetuar transferência entre contas\n",
        " #Retornar os dados da conta (atributos)\n",
        "#No construtor, o saldo é opcional, podendo iniciar com valor zero (\n",
        "#default) e os demais atributos são obrigatórios.\n",
        "#Crie pelo menos 3 objetos (contas correntes) e efetue transações nas contas\n",
        "#(depósitos, saques e transferências).\n",
        "#No final, gere um arquivo CSV com o relatório da situação das contas (dados de\n",
        "#cada conta).\n",
        "\n",
        "import csv\n",
        "\n",
        "class ContaCorrente:\n",
        "    def __init__(self, numero_conta, nome_correntista, saldo=0):\n",
        "        self.numero_conta = numero_conta\n",
        "        self.nome_correntista = nome_correntista\n",
        "        self.saldo = saldo\n",
        "\n",
        "    def alterar_nome_correntista(self, novo_nome):\n",
        "        self.nome_correntista = novo_nome\n",
        "\n",
        "    def efetuar_deposito(self, valor):\n",
        "        if valor > 0:\n",
        "            self.saldo += valor\n",
        "            return True\n",
        "        else:\n",
        "            return False\n",
        "\n",
        "    def efetuar_saque(self, valor):\n",
        "        if valor > 0 and valor <= self.saldo:\n",
        "            self.saldo -= valor\n",
        "            return True\n",
        "        else:\n",
        "            return False\n",
        "\n",
        "    def efetuar_transferencia(self, outra_conta, valor):\n",
        "        if valor > 0 and valor <= self.saldo:\n",
        "            if self.efetuar_saque(valor):\n",
        "                outra_conta.efetuar_deposito(valor)\n",
        "                return True\n",
        "        return False\n",
        "\n",
        "    def retornar_dados_conta(self):\n",
        "        return {\n",
        "            \"Número da Conta\": self.numero_conta,\n",
        "            \"Nome do Correntista\": self.nome_correntista,\n",
        "            \"Saldo\": self.saldo\n",
        "        }\n",
        "\n",
        "# Criando 3 objetos ContaCorrente\n",
        "conta1 = ContaCorrente(1, \"Ana\")\n",
        "conta2 = ContaCorrente(2, \"Gabriel\", 1000)\n",
        "conta3 = ContaCorrente(3, \"Laura\", 500)\n",
        "\n",
        "# Realizando transações nas contas\n",
        "conta1.efetuar_deposito(500)\n",
        "conta2.efetuar_saque(200)\n",
        "conta3.efetuar_transferencia(conta1, 300)\n",
        "\n",
        "# Gerando um arquivo CSV com o relatório das contas\n",
        "with open('relatorio_contas.csv', mode='w', newline='') as file:\n",
        "    writer = csv.writer(file)\n",
        "    writer.writerow([\"Número da Conta\", \"Nome do Correntista\", \"Saldo\"])\n",
        "\n",
        "    for conta in [conta1, conta2, conta3]:\n",
        "        dados_conta = conta.retornar_dados_conta()\n",
        "        writer.writerow([dados_conta[\"Número da Conta\"], dados_conta[\"Nome do Correntista\"], dados_conta[\"Saldo\"]])\n",
        "\n",
        "\n",
        "\n",
        "\n",
        "\n",
        "\n",
        "\n",
        "\n",
        "\n"
      ]
    }
  ]
}
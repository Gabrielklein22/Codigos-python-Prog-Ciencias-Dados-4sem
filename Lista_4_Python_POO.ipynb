{
  "nbformat": 4,
  "nbformat_minor": 0,
  "metadata": {
    "colab": {
      "provenance": [],
      "authorship_tag": "ABX9TyM5CDnIAdUh+ud1cP1w31XH",
      "include_colab_link": true
    },
    "kernelspec": {
      "name": "python3",
      "display_name": "Python 3"
    },
    "language_info": {
      "name": "python"
    }
  },
  "cells": [
    {
      "cell_type": "markdown",
      "metadata": {
        "id": "view-in-github",
        "colab_type": "text"
      },
      "source": [
        "<a href=\"https://colab.research.google.com/github/Gabrielklein22/Codigos-python-Prog-Ciencias-Dados-4sem/blob/main/Lista_4_Python_POO.ipynb\" target=\"_parent\"><img src=\"https://colab.research.google.com/assets/colab-badge.svg\" alt=\"Open In Colab\"/></a>"
      ]
    },
    {
      "cell_type": "code",
      "execution_count": null,
      "metadata": {
        "id": "tb1hBVJ7SvLr"
      },
      "outputs": [],
      "source": [
        "# lista 4 - exercicio 1\n",
        "\n",
        "#1. Crie uma classe para implementar uma conta corrente. A classe deve possuir os\n",
        "#seguintes atributos:\n",
        " #número da conta\n",
        " #nome do correntista\n",
        " #saldo\n",
        "#Crie métodos para as seguintes operações:\n",
        " #Método construtor\n",
        " #Alterar o nome do correntista\n",
        " #Efetuar depósito\n",
        " #Efetuar saque\n",
        " #Efetuar transferência entre contas\n",
        " #Retornar os dados da conta (atributos)\n",
        "#No construtor, o saldo é opcional, podendo iniciar com valor zero (\n",
        "#default) e os demais atributos são obrigatórios.\n",
        "#Crie pelo menos 3 objetos (contas correntes) e efetue transações nas contas\n",
        "#(depósitos, saques e transferências).\n",
        "#No final, gere um arquivo CSV com o relatório da situação das contas (dados de\n",
        "#cada conta).\n",
        "\n",
        "class ContaCorrente:\n",
        "  def __init__(self, numConta, nomeCorretista, saldo):\n",
        "    self.numConta = numConta\n",
        "    self.nomeCorretista = nomeCorretista\n",
        "    self.saldo = saldo\n",
        ""
      ]
    }
  ]
}
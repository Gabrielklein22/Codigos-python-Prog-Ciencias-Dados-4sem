{
  "nbformat": 4,
  "nbformat_minor": 0,
  "metadata": {
    "colab": {
      "provenance": [],
      "authorship_tag": "ABX9TyPbCxAlZT+CAMyh0lemxKCA",
      "include_colab_link": true
    },
    "kernelspec": {
      "name": "python3",
      "display_name": "Python 3"
    },
    "language_info": {
      "name": "python"
    }
  },
  "cells": [
    {
      "cell_type": "markdown",
      "metadata": {
        "id": "view-in-github",
        "colab_type": "text"
      },
      "source": [
        "<a href=\"https://colab.research.google.com/github/Gabrielklein22/Codigos-python-Prog-Ciencias-Dados-4sem/blob/main/censo2022_leitura_Estudos_Independentes_3.ipynb\" target=\"_parent\"><img src=\"https://colab.research.google.com/assets/colab-badge.svg\" alt=\"Open In Colab\"/></a>"
      ]
    },
    {
      "cell_type": "code",
      "execution_count": 8,
      "metadata": {
        "colab": {
          "base_uri": "https://localhost:8080/"
        },
        "id": "-sK0nJaaGxVg",
        "outputId": "3fd9393e-1faa-44d1-a7e2-7824b142197a"
      },
      "outputs": [
        {
          "output_type": "stream",
          "name": "stdout",
          "text": [
            "Arquivo JSON gerado com sucesso!\n"
          ]
        }
      ],
      "source": [
        "#Estudos Independentes 3\n",
        "\n",
        "import pandas as pd\n",
        "import json\n",
        "\n",
        "dados = pd.read_csv('censo2022.csv')\n",
        "\n",
        "resultado = []\n",
        "\n",
        "for uf, cod_uf, cod_municip, nome_municipio, populacao in dados.itertuples(index=False):\n",
        "    entrada = {\n",
        "        \"uf\": uf,\n",
        "        \"cod_uf\": cod_uf,\n",
        "        \"municipios\": [\n",
        "            {\n",
        "                \"cod_municipio\": cod_municip,\n",
        "                \"nome_municipio\": nome_municipio,\n",
        "                \"populacao\": populacao\n",
        "            }\n",
        "        ]\n",
        "    }\n",
        "\n",
        "    entrada_existente = next((e for e in resultado if e[\"uf\"] == uf), None)\n",
        "    if entrada_existente:\n",
        "        entrada_existente[\"municipios\"].append(entrada[\"municipios\"][0])\n",
        "    else:\n",
        "        resultado.append(entrada)\n",
        "\n",
        "with open('Leitura-censo2022.json', 'w', encoding='utf-8') as jsonfile:\n",
        "    json.dump(resultado, jsonfile, indent=4)\n",
        "\n",
        "print(\"Arquivo JSON gerado com sucesso!\")"
      ]
    }
  ]
}
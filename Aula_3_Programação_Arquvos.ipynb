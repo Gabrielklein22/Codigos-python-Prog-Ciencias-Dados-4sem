{
  "nbformat": 4,
  "nbformat_minor": 0,
  "metadata": {
    "colab": {
      "provenance": [],
      "authorship_tag": "ABX9TyMsYIKqdMQE/ik2irr/MiOY",
      "include_colab_link": true
    },
    "kernelspec": {
      "name": "python3",
      "display_name": "Python 3"
    },
    "language_info": {
      "name": "python"
    }
  },
  "cells": [
    {
      "cell_type": "markdown",
      "metadata": {
        "id": "view-in-github",
        "colab_type": "text"
      },
      "source": [
        "<a href=\"https://colab.research.google.com/github/Gabrielklein22/Codigos-python-Prog-Ciencias-Dados-4sem/blob/main/Aula_3_Programa%C3%A7%C3%A3o_Arquvos.ipynb\" target=\"_parent\"><img src=\"https://colab.research.google.com/assets/colab-badge.svg\" alt=\"Open In Colab\"/></a>"
      ]
    },
    {
      "cell_type": "code",
      "source": [
        "arq = open(\"arq_exemplo.txt\")\n",
        "print(arq.read())\n"
      ],
      "metadata": {
        "colab": {
          "base_uri": "https://localhost:8080/"
        },
        "id": "0p22LTCNsQ-x",
        "outputId": "ee81aa4d-e3c2-458f-8281-d15b6667af44"
      },
      "execution_count": 14,
      "outputs": [
        {
          "output_type": "stream",
          "name": "stdout",
          "text": [
            "Exemplo de arquvo de texto\n",
            "linha 1\n",
            "linha 2\n",
            "linha 3\n",
            "\n"
          ]
        }
      ]
    },
    {
      "cell_type": "code",
      "source": [
        "arq = open(\"arq_exemplo.txt\")\n",
        "print(arq.readline())\n",
        "print(arq.readline())\n",
        "print(arq.readline())"
      ],
      "metadata": {
        "colab": {
          "base_uri": "https://localhost:8080/"
        },
        "id": "FKcjnY993TR1",
        "outputId": "9cd872a8-bd76-41c9-cb4e-db6d824add1e"
      },
      "execution_count": 15,
      "outputs": [
        {
          "output_type": "stream",
          "name": "stdout",
          "text": [
            "Exemplo de arquvo de texto\n",
            "\n",
            "linha 1\n",
            "\n",
            "linha 2\n",
            "\n"
          ]
        }
      ]
    },
    {
      "cell_type": "code",
      "source": [
        "arq = open(\"arq_exemplo.txt\")\n",
        "print(arq.read(5))\n",
        "print(arq.read(3))"
      ],
      "metadata": {
        "colab": {
          "base_uri": "https://localhost:8080/"
        },
        "id": "V1NkF0fg3u91",
        "outputId": "ff89f3fb-3d3f-435b-c102-c93fe912f4ed"
      },
      "execution_count": 16,
      "outputs": [
        {
          "output_type": "stream",
          "name": "stdout",
          "text": [
            "Exemp\n",
            "lo \n"
          ]
        }
      ]
    },
    {
      "cell_type": "code",
      "source": [
        "arq = open(\"arq_exemplo.txt\", \"rb+\")\n",
        "print(arq.read(5))\n",
        "print(\"Posição atual do arquivo: \", arq.tell())\n",
        "arq.seek(6, 2)\n",
        "print(arq.read(7))\n",
        "arq.seek(11, 0)\n",
        "print(arq.read(7))"
      ],
      "metadata": {
        "colab": {
          "base_uri": "https://localhost:8080/"
        },
        "id": "_CFxxst54GAF",
        "outputId": "cf224c45-ed9b-469c-ad7c-9833fef4d1e1"
      },
      "execution_count": 28,
      "outputs": [
        {
          "output_type": "stream",
          "name": "stdout",
          "text": [
            "b'Exemp'\n",
            "Posição atual do arquivo:  5\n",
            "b''\n",
            "b'arquvo '\n"
          ]
        }
      ]
    },
    {
      "cell_type": "code",
      "source": [
        "arq = open(\"arq_exemplo.txt\")\n",
        "for c in arq:\n",
        "  print(c)"
      ],
      "metadata": {
        "colab": {
          "base_uri": "https://localhost:8080/"
        },
        "id": "T-JLjrSb6elm",
        "outputId": "e7025ca6-b6e0-40f0-a6ba-ae877f4e4968"
      },
      "execution_count": 29,
      "outputs": [
        {
          "output_type": "stream",
          "name": "stdout",
          "text": [
            "Exemplo de arquvo de texto\n",
            "\n",
            "linha 1\n",
            "\n",
            "linha 2\n",
            "\n",
            "linha 3\n",
            "\n"
          ]
        }
      ]
    },
    {
      "cell_type": "code",
      "source": [
        "arq = open(\"arq_exemplo.txt\")\n",
        "lista = list(arq.read(7))\n",
        "print(lista)"
      ],
      "metadata": {
        "colab": {
          "base_uri": "https://localhost:8080/"
        },
        "id": "fSp6xc-U6yCt",
        "outputId": "d16fae74-0a86-4ba3-933a-ed17da7d939d"
      },
      "execution_count": 3,
      "outputs": [
        {
          "output_type": "stream",
          "name": "stdout",
          "text": [
            "['E', 'x', 'e', 'm', 'p', 'l', 'o']\n"
          ]
        }
      ]
    },
    {
      "cell_type": "code",
      "source": [
        "from os import write\n",
        "texto = 'Escrvendo no arquvo'\n",
        "arq = open(\"arq_exemplo_escrita.txt\", \"w\")\n",
        "arq.write(texto)\n",
        "arq.close\n",
        "arq = open(\"arq_exemplo_escrita.txt\", \"r\")\n",
        "print(arq.read())\n"
      ],
      "metadata": {
        "colab": {
          "base_uri": "https://localhost:8080/"
        },
        "id": "gN3PFp-S8-2J",
        "outputId": "56782b0a-d1f7-49bf-ef6e-df847c569967"
      },
      "execution_count": 5,
      "outputs": [
        {
          "output_type": "stream",
          "name": "stdout",
          "text": [
            "Escrvendo no arquvo\n"
          ]
        }
      ]
    },
    {
      "cell_type": "code",
      "source": [
        "texto = input(\"Digite algo no arquivo: \")\n",
        "arq = open(\"arq_exemplo_escrita.txt\", \"w\")\n",
        "arq.write(texto)\n",
        "arq.close\n",
        "arq =  open(\"arq_exemplo_escrita.txt\", \"r\")\n",
        "print(arq.read())"
      ],
      "metadata": {
        "colab": {
          "base_uri": "https://localhost:8080/"
        },
        "id": "DPpygOUo-J1V",
        "outputId": "27b2d4a6-e30c-405a-b8ff-bb61ea225f0b"
      },
      "execution_count": 23,
      "outputs": [
        {
          "output_type": "stream",
          "name": "stdout",
          "text": [
            "Digite algo no arquivo: eu amo\n",
            "eu amo\n"
          ]
        }
      ]
    },
    {
      "cell_type": "code",
      "source": [
        "texto = input(\"Digite algo no arquivo: \")\n",
        "arq = open(\"arq_exemplo_escrita.txt\", \"a\")\n",
        "arq.write(texto)\n",
        "arq.close\n",
        "arq = open(\"arq_exemplo_escrita.txt\", \"r\")\n",
        "print(arq.read())\n",
        "arq.close()"
      ],
      "metadata": {
        "colab": {
          "base_uri": "https://localhost:8080/"
        },
        "id": "YUDB9ZuS-uau",
        "outputId": "8a5d6d41-9a9e-46fc-c8bc-4771fc7d6304"
      },
      "execution_count": 24,
      "outputs": [
        {
          "output_type": "stream",
          "name": "stdout",
          "text": [
            "Digite algo no arquivo:  vc\n",
            "eu amo vc\n"
          ]
        }
      ]
    },
    {
      "cell_type": "code",
      "source": [
        "lista = ['linha 1\\n', 'linha 2\\n', 'linha 3\\n']\n",
        "arq = open(\"arq_exemplo2_escrita.txt\", \"w\")\n",
        "arq.writelines(lista)\n",
        "arq = open(\"arq_exemplo2_escrita.txt\", \"r\")\n",
        "print(arq.read())"
      ],
      "metadata": {
        "colab": {
          "base_uri": "https://localhost:8080/"
        },
        "id": "IBeHygsWAxgu",
        "outputId": "3e4fafba-f70a-4c94-ebdf-fe26ef3b171f"
      },
      "execution_count": 26,
      "outputs": [
        {
          "output_type": "stream",
          "name": "stdout",
          "text": [
            "linha 1\n",
            "linha 2\n",
            "linha 3\n",
            "\n"
          ]
        }
      ]
    }
  ]
}
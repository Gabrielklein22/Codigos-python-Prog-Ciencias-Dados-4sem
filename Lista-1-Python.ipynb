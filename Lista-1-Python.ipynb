{
  "nbformat": 4,
  "nbformat_minor": 0,
  "metadata": {
    "colab": {
      "provenance": [],
      "include_colab_link": true
    },
    "kernelspec": {
      "name": "python3",
      "display_name": "Python 3"
    },
    "language_info": {
      "name": "python"
    }
  },
  "cells": [
    {
      "cell_type": "markdown",
      "metadata": {
        "id": "view-in-github",
        "colab_type": "text"
      },
      "source": [
        "<a href=\"https://colab.research.google.com/github/Gabrielklein22/Codigos-python-Prog-Ciencias-Dados-4sem/blob/main/Lista-1-Python.ipynb\" target=\"_parent\"><img src=\"https://colab.research.google.com/assets/colab-badge.svg\" alt=\"Open In Colab\"/></a>"
      ]
    },
    {
      "cell_type": "code",
      "execution_count": null,
      "metadata": {
        "id": "2Bk4jl2mEym6",
        "colab": {
          "base_uri": "https://localhost:8080/"
        },
        "outputId": "50a96aa1-172c-4faf-d681-4886fbbd7bc6"
      },
      "outputs": [
        {
          "output_type": "stream",
          "name": "stdout",
          "text": [
            "Digite qualquer numero inteiro100\n",
            "10.0\n"
          ]
        }
      ],
      "source": [
        "import math;\n",
        "# Exercicios\n",
        "# atividade 1\n",
        "\n",
        "# Faça um programa que receba um número inteiro. Se esse número for positivo,\n",
        "#calcule a raiz quadrada do número. Senão, informe que o número é inválido.\n",
        "\n",
        "a = int(input(\"Digite qualquer numero inteiro\" ))\n",
        "\n",
        "if a >= 0:\n",
        "  raiz = math.sqrt(a)\n",
        "  print(raiz)\n",
        "else:\n",
        "  print(\"Numero invalido\")"
      ]
    },
    {
      "cell_type": "code",
      "source": [
        "#Faça um programa que receba um número inteiro e mostre se este número é par ou ímpar.\n",
        "\n",
        "#Atividade 2\n",
        "a = int(input(\"Digite qualquer numero inteiro =  \"))\n",
        "print(a)\n",
        "if (a % 2) <= 0:\n",
        "  print(\"É par\")\n",
        "else:\n",
        "  print(\"É Impar\")\n"
      ],
      "metadata": {
        "colab": {
          "base_uri": "https://localhost:8080/"
        },
        "id": "vIodWIxx42JT",
        "outputId": "6455eca5-99a0-4b60-c021-17a2c8ea9a05"
      },
      "execution_count": null,
      "outputs": [
        {
          "output_type": "stream",
          "name": "stdout",
          "text": [
            "Digite qualquer numero inteiro =  10\n",
            "10\n",
            "É par\n"
          ]
        }
      ]
    },
    {
      "cell_type": "code",
      "source": [
        "#Exercicio 3\n",
        "\n",
        "#Escreva um programa que receba dois números inteiros. Mostre qual é o maior\n",
        "#número e a diferença existente entre ambos. Se os dois números forem iguais, exiba\n",
        "#a mensagem “Números Iguais”.\n",
        "\n",
        "a = int(input(\"Digite qualquer numero inteiro \" ))\n",
        "b = int(input(\"Digite outro numero inteiro \" ))\n",
        "print()\n",
        "\n",
        "if a > b:\n",
        "  diferença = a - b\n",
        "  print(\" O A é maior  =  \", diferença)\n",
        "\n",
        "elif b > a:\n",
        "  diferença = a - b\n",
        "  print(\"O B é maior  =  \", diferença)\n",
        "else:\n",
        "  print(\"Numeros iguais\")\n"
      ],
      "metadata": {
        "colab": {
          "base_uri": "https://localhost:8080/"
        },
        "id": "x75Qxu6gBJmI",
        "outputId": "421b08a2-bd63-425f-8f65-b46b9952e965"
      },
      "execution_count": null,
      "outputs": [
        {
          "output_type": "stream",
          "name": "stdout",
          "text": [
            "Digite qualquer numero inteiro 1\n",
            "Digite outro numero inteiro 1\n",
            "\n",
            "Numeros iguais\n"
          ]
        }
      ]
    },
    {
      "cell_type": "code",
      "source": [
        "#Exercicio 4\n",
        "#Escreva um programa que receba um gabarito, as respostas dos alunos e informe o\n",
        "#número de acertos de cada aluno.\n",
        " #As respostas das questões podem ser de “A” até “E”.\n",
        " #Exemplo de entrada das respostas e do gabarito “A-B-C-A-B-C-E-D”\n",
        " #O número de questões pode ser variável (obtenha a informação do usuário)\n",
        " #Deve permitir verificar os acertos de mais de um aluno.\n",
        "\n",
        "def calcular_acertos(gabarito, respostas_aluno):\n",
        "    acertos = 0\n",
        "    for i in range(len(gabarito)):\n",
        "        if gabarito[i] == respostas_aluno[i]:\n",
        "            acertos += 1\n",
        "    return acertos\n",
        "\n",
        "def main():\n",
        "    gabarito = input(\"Informe o gabarito das questões (ex: A-B-C-A-B-C-E-D): \").upper().split(\"-\")\n",
        "    num_questoes = len(gabarito)\n",
        "\n",
        "    while True:\n",
        "        respostas_aluno = input(\"Informe as respostas do aluno (ou 'sair' para encerrar): \")\n",
        "\n",
        "        if respostas_aluno.lower() == \"sair\":\n",
        "            break\n",
        "\n",
        "        respostas_aluno = respostas_aluno.upper().split(\"-\")\n",
        "\n",
        "        if len(respostas_aluno) != num_questoes:\n",
        "            print(\"Número de respostas do aluno não coincide com o gabarito.\")\n",
        "            continue\n",
        "\n",
        "        acertos = calcular_acertos(gabarito, respostas_aluno)\n",
        "        print(\"O aluno acertou\", acertos, \" questões.\")\n",
        "\n",
        "if __name__ == \"__main__\":\n",
        "    main()\n",
        "\n",
        "\n",
        "\n"
      ],
      "metadata": {
        "colab": {
          "base_uri": "https://localhost:8080/"
        },
        "id": "KskBu5YxEsi6",
        "outputId": "41d80417-c1fa-488b-f1f6-70b527572746"
      },
      "execution_count": null,
      "outputs": [
        {
          "name": "stdout",
          "output_type": "stream",
          "text": [
            "Informe o gabarito das questões (ex: A-B-C-A-B-C-E-D): A-B-C-D-E\n",
            "Informe as respostas do aluno (ou 'sair' para encerrar): A-B-D-E-C\n",
            "O aluno acertou 2  questões.\n",
            "Informe as respostas do aluno (ou 'sair' para encerrar): SAIR\n"
          ]
        }
      ]
    },
    {
      "cell_type": "code",
      "source": [
        "#Atividade 5"
      ],
      "metadata": {
        "id": "XU8UDWQp0ABt"
      },
      "execution_count": null,
      "outputs": []
    },
    {
      "cell_type": "code",
      "source": [],
      "metadata": {
        "id": "ID3kjro32l1Z"
      },
      "execution_count": null,
      "outputs": []
    }
  ]
}
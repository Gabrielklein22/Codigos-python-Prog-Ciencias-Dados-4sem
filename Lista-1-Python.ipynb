{
  "nbformat": 4,
  "nbformat_minor": 0,
  "metadata": {
    "colab": {
      "provenance": [],
      "authorship_tag": "ABX9TyPFCqQKHMRPuLjm13vX2s1V",
      "include_colab_link": true
    },
    "kernelspec": {
      "name": "python3",
      "display_name": "Python 3"
    },
    "language_info": {
      "name": "python"
    }
  },
  "cells": [
    {
      "cell_type": "markdown",
      "metadata": {
        "id": "view-in-github",
        "colab_type": "text"
      },
      "source": [
        "<a href=\"https://colab.research.google.com/github/Gabrielklein22/Codigos-python-Prog-Ciencias-Dados-4sem/blob/main/Lista-1-Python.ipynb\" target=\"_parent\"><img src=\"https://colab.research.google.com/assets/colab-badge.svg\" alt=\"Open In Colab\"/></a>"
      ]
    },
    {
      "cell_type": "code",
      "execution_count": 14,
      "metadata": {
        "id": "2Bk4jl2mEym6",
        "outputId": "50a96aa1-172c-4faf-d681-4886fbbd7bc6",
        "colab": {
          "base_uri": "https://localhost:8080/"
        }
      },
      "outputs": [
        {
          "output_type": "stream",
          "name": "stdout",
          "text": [
            "Digite qualquer numero inteiro100\n",
            "10.0\n"
          ]
        }
      ],
      "source": [
        "import math;\n",
        "# Exercicios\n",
        "# atividade 1\n",
        "\n",
        "# Faça um programa que receba um número inteiro. Se esse número for positivo,\n",
        "#calcule a raiz quadrada do número. Senão, informe que o número é inválido.\n",
        "\n",
        "a = int(input(\"Digite qualquer numero inteiro\" ))\n",
        "\n",
        "if a >= 0:\n",
        "  raiz = math.sqrt(a)\n",
        "  print(raiz)\n",
        "else:\n",
        "  print(\"Numero invalido\")"
      ]
    },
    {
      "cell_type": "code",
      "source": [
        "#Faça um programa que receba um número inteiro e mostre se este número é par ou ímpar.\n",
        "\n",
        "#Atividade 2\n",
        "a = int(input(\"Digite qualquer numero inteiro =  \"))\n",
        "print(a)\n",
        "if (a % 2) <= 0:\n",
        "  print(\"É par\")\n",
        "else:\n",
        "  print(\"É Impar\")\n",
        ""
      ],
      "metadata": {
        "id": "vIodWIxx42JT",
        "outputId": "6455eca5-99a0-4b60-c021-17a2c8ea9a05",
        "colab": {
          "base_uri": "https://localhost:8080/"
        }
      },
      "execution_count": 46,
      "outputs": [
        {
          "output_type": "stream",
          "name": "stdout",
          "text": [
            "Digite qualquer numero inteiro =  10\n",
            "10\n",
            "É par\n"
          ]
        }
      ]
    },
    {
      "cell_type": "code",
      "source": [
        "#Exercicio 3\n",
        "\n",
        "#Escreva um programa que receba dois números inteiros. Mostre qual é o maior\n",
        "#número e a diferença existente entre ambos. Se os dois números forem iguais, exiba\n",
        "#a mensagem “Números Iguais”.\n",
        "\n",
        "a = int(input(\"Digite qualquer numero inteiro \" ))\n",
        "b = int(input(\"Digite outro numero inteiro \" ))\n",
        "print()\n",
        "\n",
        "if a > b:\n",
        "  diferença = a - b\n",
        "  print(\" O A é maior  =  \", diferença)\n",
        "\n",
        "elif b > a:\n",
        "  diferença = a - b\n",
        "  print(\"O B é maior  =  \", diferença)\n",
        "else:\n",
        "  print(\"Numeros iguais\")\n"
      ],
      "metadata": {
        "id": "x75Qxu6gBJmI",
        "outputId": "421b08a2-bd63-425f-8f65-b46b9952e965",
        "colab": {
          "base_uri": "https://localhost:8080/"
        }
      },
      "execution_count": 60,
      "outputs": [
        {
          "output_type": "stream",
          "name": "stdout",
          "text": [
            "Digite qualquer numero inteiro 1\n",
            "Digite outro numero inteiro 1\n",
            "\n",
            "Numeros iguais\n"
          ]
        }
      ]
    },
    {
      "cell_type": "code",
      "source": [
        "#Exercicio 4\n",
        "#Escreva um programa que receba um gabarito, as respostas dos alunos e informe o\n",
        "#número de acertos de cada aluno.\n",
        " #As respostas das questões podem ser de “A” até “E”.\n",
        " #Exemplo de entrada das respostas e do gabarito “A-B-C-A-B-C-E-D”\n",
        " #O número de questões pode ser variável (obtenha a informação do usuário)\n",
        " #Deve permitir verificar os acertos de mais de um aluno.\n",
        "\n",
        "numQestoes = int(input(\"informe o numero de questões\"))\n",
        "gabarito = str(input(\"Informe as respostas e do gabarito estilo “A-B-C-A-B-C-E-D\"))\n",
        "\n",
        "if\n",
        "\n",
        "\n"
      ],
      "metadata": {
        "id": "KskBu5YxEsi6",
        "outputId": "d24b033a-3a87-46c3-f334-3e7be8b81568",
        "colab": {
          "base_uri": "https://localhost:8080/"
        }
      },
      "execution_count": 59,
      "outputs": [
        {
          "output_type": "stream",
          "name": "stdout",
          "text": [
            "informe as respostas de sua prova, As respostas devem ser somente A até E - abcde\n",
            "abcde\n"
          ]
        }
      ]
    }
  ]
}
{
  "nbformat": 4,
  "nbformat_minor": 0,
  "metadata": {
    "colab": {
      "provenance": [],
      "authorship_tag": "ABX9TyO1+VVs5AG3aAiqzeexe4vu",
      "include_colab_link": true
    },
    "kernelspec": {
      "name": "python3",
      "display_name": "Python 3"
    },
    "language_info": {
      "name": "python"
    }
  },
  "cells": [
    {
      "cell_type": "markdown",
      "metadata": {
        "id": "view-in-github",
        "colab_type": "text"
      },
      "source": [
        "<a href=\"https://colab.research.google.com/github/Gabrielklein22/Codigos-python-Prog-Ciencias-Dados-4sem/blob/main/Lista_1_Estudos_Idependentes_2_Gabriel_klein.ipynb\" target=\"_parent\"><img src=\"https://colab.research.google.com/assets/colab-badge.svg\" alt=\"Open In Colab\"/></a>"
      ]
    },
    {
      "cell_type": "code",
      "execution_count": 42,
      "metadata": {
        "colab": {
          "base_uri": "https://localhost:8080/"
        },
        "id": "5o1akSAw77AA",
        "outputId": "5c53aab2-e211-439c-ea75-3de3ed4dbd82"
      },
      "outputs": [
        {
          "output_type": "stream",
          "name": "stdout",
          "text": [
            "Digite o primeiro conjunto de frutas:\n",
            "Digite o nome de uma fruta (ou 'q' para sair): banana\n",
            "Digite o nome de uma fruta (ou 'q' para sair): pera\n",
            "Digite o nome de uma fruta (ou 'q' para sair): morango\n",
            "Digite o nome de uma fruta (ou 'q' para sair): uva\n",
            "Digite o nome de uma fruta (ou 'q' para sair): q\n",
            "\n",
            "Esse é o conjunto 1 {'banana', 'pera', 'morango', 'uva'}\n",
            "\n",
            "Digite o segundo conjunto de frutas:\n",
            "Digite o nome de uma fruta (ou 'q' para sair): limão\n",
            "Digite o nome de uma fruta (ou 'q' para sair): abacaxi\n",
            "Digite o nome de uma fruta (ou 'q' para sair): bergamota\n",
            "Digite o nome de uma fruta (ou 'q' para sair): laranja\n",
            "Digite o nome de uma fruta (ou 'q' para sair): q\n",
            "\n",
            "Esse é o conjunto 2 {'bergamota', 'laranja', 'limão', 'abacaxi'}\n",
            "\n",
            "União = {'pera', 'morango', 'bergamota', 'uva', 'abacaxi', 'banana', 'laranja', 'limão'}\n",
            "\n",
            "Diferença 1 = {'banana', 'pera', 'morango', 'uva'}\n",
            "\n",
            "Intersecção = set()\n",
            "\n",
            "0\n"
          ]
        }
      ],
      "source": [
        "#Exercicio 1\n",
        "\n",
        "#Escreva um programa que leia do teclado dois conjuntos de nomes de frutas. Os\n",
        "#conjuntos podem ter tamanhos variáveis. Em seguida, apresente na tela a união, a\n",
        "#interseção e a diferença entre os conjuntos. Apresente também a diferença de\n",
        "#número de elementos contidos entre os dois conjuntos.\n",
        "\n",
        "def ler_frutas():\n",
        "    frutas = set()\n",
        "    while True:\n",
        "        fruta = input(\"Digite o nome de uma fruta (ou 'q' para sair): \")\n",
        "        if fruta == 'q'.lower():\n",
        "            break\n",
        "        frutas.add(fruta)\n",
        "    return frutas\n",
        "\n",
        "# Ler os dois conjuntos de frutas\n",
        "print(\"Digite o primeiro conjunto de frutas:\" )\n",
        "conjunto1 = ler_frutas()\n",
        "\n",
        "print()\n",
        "print(\"Esse é o conjunto 1\", conjunto1)\n",
        "\n",
        "print(\"\\nDigite o segundo conjunto de frutas:\")\n",
        "conjunto2 = ler_frutas()\n",
        "\n",
        "print()\n",
        "print(\"Esse é o conjunto 2\", conjunto2)\n",
        "\n",
        "print()\n",
        "\n",
        "\n",
        "#união\n",
        "uniao = conjunto1 | conjunto2\n",
        "print(\"União =\", uniao)\n",
        "print()\n",
        "\n",
        "#Diferença\n",
        "diferenca1 = conjunto1 - conjunto2\n",
        "print(\"Diferença 1 =\", diferenca1)\n",
        "print()\n",
        "\n",
        "#intersecção\n",
        "interseccao = conjunto1.intersection(conjunto2)\n",
        "print(\"Intersecção =\", interseccao)\n",
        "print()\n",
        "\n",
        "#Diferença dos elementos\n",
        "diferenca_elementos = abs(len(conjunto1) - len(conjunto2))\n",
        "print(diferenca_elementos)"
      ]
    },
    {
      "cell_type": "code",
      "source": [
        "#exercicios 2\n",
        "\n",
        "#Escreva um programa que permaneça em um laço de repetição lendo números\n",
        "#inteiros do teclado. Esse laço termina quando for digitado zero ou qualquer valor\n",
        "#negativo. O programa deve contar quantas vezes cada valor positivo foi digitado. Ao\n",
        "#término do laço de leitura, o programa deve mostrar quais valores foram digitados e\n",
        "#quantas vezes cada um. Use um dicionário para resolver esse problema.\n",
        "\n",
        "# O dicionário para contar as ocorrências de valores positivos\n",
        "contagem = {}\n",
        "\n",
        "# Continue lendo números inteiros do teclado em um loop\n",
        "while True:\n",
        "    numero = int(input(\"Digite um número inteiro (zero ou valor negativo para sair): \"))\n",
        "\n",
        "    # Verifique se o número é zero ou negativo para sair do loop\n",
        "    if numero <= 0:\n",
        "        break\n",
        "\n",
        "    # Atualize o dicionário de contagem\n",
        "    if numero in contagem:\n",
        "        contagem[numero] += 1\n",
        "    else:\n",
        "        contagem[numero] = 1\n",
        "\n",
        "# Mostre os resultados\n",
        "print(\"\\nValores digitados e suas contagens:\")\n",
        "for numero, contador in contagem.items():\n",
        "    print(f\"{numero}: {contador} vezes\")\n"
      ],
      "metadata": {
        "colab": {
          "base_uri": "https://localhost:8080/"
        },
        "id": "Quj0ZZqDSmr_",
        "outputId": "bcbf48ef-b9cd-497b-9485-c6d4b411277e"
      },
      "execution_count": 28,
      "outputs": [
        {
          "output_type": "stream",
          "name": "stdout",
          "text": [
            "Digite um número inteiro (zero ou valor negativo para sair): 1\n",
            "Digite um número inteiro (zero ou valor negativo para sair): 2\n",
            "Digite um número inteiro (zero ou valor negativo para sair): 3\n",
            "Digite um número inteiro (zero ou valor negativo para sair): 4\n",
            "Digite um número inteiro (zero ou valor negativo para sair): 5\n",
            "Digite um número inteiro (zero ou valor negativo para sair): 5\n",
            "Digite um número inteiro (zero ou valor negativo para sair): 0\n",
            "\n",
            "Valores digitados e suas contagens:\n",
            "1: 1 vezes\n",
            "2: 1 vezes\n",
            "3: 1 vezes\n",
            "4: 1 vezes\n",
            "5: 2 vezes\n"
          ]
        }
      ]
    },
    {
      "cell_type": "code",
      "source": [
        "#Exercicio 3\n",
        "\n",
        "#Escreva um programa que receba os nomes dos alunos e suas respectivas notas.\n",
        "#Cada aluno possui duas notas de 0 (zero) até 100. Tais informações devem ser\n",
        "#armazenadas em uma estrutura de dados. A quantidade de alunos para leitura deve\n",
        "#ser informada no início do programa. Após a leitura dos dados, exiba as informações\n",
        "#do aluno, contendo: Nome, Nota 1, Nota 2, Média (média entre Nota 1 e Nota 2) e a\n",
        "#Situação do Aluno. A situação do aluno será “Aprovado(a)” se atingir a média 60.\n",
        "#Caso contrário, estará “Reprovado(a)”.\n",
        "#Exiba ainda, o número de alunos aprovados, o número de alunos reprovados,\n",
        "#percentual de aprovação, percentual de reprovação e a média de notas da turma\n",
        "#para Nota 1, Nota 2 e Média.\n",
        "\n",
        "# Função para calcular a situação do aluno\n",
        "def calcular_situacao(media):\n",
        "    if media >= 60:\n",
        "        return \"Aprovado(a)\"\n",
        "    else:\n",
        "        return \"Reprovado(a)\"\n",
        "\n",
        "# Inicializar variáveis\n",
        "num_alunos = int(input(\"Digite o número de alunos: \"))\n",
        "alunos = []\n",
        "total_aprovados = 0\n",
        "total_reprovados = 0\n",
        "soma_notas1 = 0\n",
        "soma_notas2 = 0\n",
        "soma_medias = 0\n",
        "\n",
        "# Ler os dados dos alunos\n",
        "for i in range(num_alunos):\n",
        "    nome = input(f\"Digite o nome do aluno {i+1}: \")\n",
        "    nota1 = float(input(f\"Digite a Nota 1 do aluno {i+1}: \"))\n",
        "    nota2 = float(input(f\"Digite a Nota 2 do aluno {i+1}: \"))\n",
        "    media = (nota1 + nota2) / 2\n",
        "    situacao = calcular_situacao(media)\n",
        "\n",
        "    # Atualizar as estatísticas\n",
        "    if situacao == \"Aprovado(a)\":\n",
        "        total_aprovados += 1\n",
        "    else:\n",
        "        total_reprovados += 1\n",
        "    soma_notas1 += nota1\n",
        "    soma_notas2 += nota2\n",
        "    soma_medias += media\n",
        "\n",
        "    # Armazenar os dados do aluno em uma lista\n",
        "    alunos.append({\"Nome\": nome, \"Nota 1\": nota1, \"Nota 2\": nota2, \"Média\": media, \"Situação\": situacao})\n",
        "\n",
        "# Calcular as estatísticas finais\n",
        "percent_aprovados = (total_aprovados / num_alunos) * 100\n",
        "percent_reprovados = (total_reprovados / num_alunos) * 100\n",
        "media_notas1 = soma_notas1 / num_alunos\n",
        "media_notas2 = soma_notas2 / num_alunos\n",
        "media_medias = soma_medias / num_alunos\n",
        "\n",
        "# Exibir as informações\n",
        "print(\"\\nInformações dos Alunos:\")\n",
        "for aluno in alunos:\n",
        "    print(f\"Nome: {aluno['Nome']}, Nota 1: {aluno['Nota 1']}, Nota 2: {aluno['Nota 2']}, Média: {aluno['Média']}, Situação: {aluno['Situação']}\")\n",
        "\n",
        "print(f\"\\nNúmero de alunos aprovados: {total_aprovados}\")\n",
        "print(f\"Número de alunos reprovados: {total_reprovados}\")\n",
        "print(f\"Percentual de aprovação: {percent_aprovados:.2f}%\")\n",
        "print(f\"Percentual de reprovação: {percent_reprovados:.2f}%\")\n",
        "print(f\"Média de Nota 1 da turma: {media_notas1:.2f}\")\n",
        "print(f\"Média de Nota 2 da turma: {media_notas2:.2f}\")\n",
        "print(f\"Média de Médias da turma: {media_medias:.2f}\")\n"
      ],
      "metadata": {
        "colab": {
          "base_uri": "https://localhost:8080/"
        },
        "id": "I-vnPK8WUcNG",
        "outputId": "6a41e4d0-f5c5-46bc-d5af-95f7457b35d1"
      },
      "execution_count": 33,
      "outputs": [
        {
          "output_type": "stream",
          "name": "stdout",
          "text": [
            "Digite o número de alunos: 1\n",
            "Digite o nome do aluno 1: Gabriel\n",
            "Digite a Nota 1 do aluno 1: 70\n",
            "Digite a Nota 2 do aluno 1: 70\n",
            "\n",
            "Informações dos Alunos:\n",
            "Nome: Gabriel, Nota 1: 70.0, Nota 2: 70.0, Média: 70.0, Situação: Aprovado(a)\n",
            "\n",
            "Número de alunos aprovados: 1\n",
            "Número de alunos reprovados: 0\n",
            "Percentual de aprovação: 100.00%\n",
            "Percentual de reprovação: 0.00%\n",
            "Média de Nota 1 da turma: 70.00\n",
            "Média de Nota 2 da turma: 70.00\n",
            "Média de Médias da turma: 70.00\n"
          ]
        }
      ]
    },
    {
      "cell_type": "code",
      "source": [],
      "metadata": {
        "id": "o851iNGWX6n8"
      },
      "execution_count": null,
      "outputs": []
    }
  ]
}